{
 "cells": [
  {
   "cell_type": "code",
   "execution_count": 6,
   "metadata": {
    "scrolled": true
   },
   "outputs": [],
   "source": [
    "import pandas as pd\n",
    "import numpy as np"
   ]
  },
  {
   "cell_type": "code",
   "execution_count": 7,
   "metadata": {},
   "outputs": [],
   "source": [
    "#Load Dataset\n",
    "test = pd.read_csv('/home/akshay/Documents/DBNKDD/dataset/NSL-KDD_Processed/Kdd_Test_41.csv')             # test set \n",
    "testLables = pd.read_csv('/home/akshay/Documents/DBNKDD/dataset/NSL-KDD_Processed/NSL_TestLabels_mat5.csv')     # test labels\n",
    "train = pd.read_csv('/home/akshay/Documents/DBNKDD/dataset/NSL-KDD_Processed/Kdd_Train_41.csv')            # train set \n",
    "trainLables = pd.read_csv('/home/akshay/Documents/DBNKDD/dataset/NSL-KDD_Processed/NSL_TrainLabels_mat5.csv')    # train labels\n",
    "valid = pd.read_csv('/home/akshay/Documents/DBNKDD/dataset/NSL-KDD_Processed/Kdd_Valid_41.csv')            # valid set\n",
    "validLabels = pd.read_csv('/home/akshay/Documents/DBNKDD/dataset/NSL-KDD_Processed/NSL_ValidLabels_int3.csv')    # valid labels\n",
    "trainLabelsOHE = pd.read_csv('/home/akshay/Documents/DBNKDD/dataset/NSL-KDD_Processed/NSL_TrainLabels_int.csv')\n",
    "testLabelsOHE = pd.read_csv('/home/akshay/Documents/DBNKDD/dataset/NSL-KDD_Processed/NSL_TestLabels_int.csv')\n",
    "\n",
    "test_set = np.float32(test)\n",
    "test_labels_set = np.float32(testLables)\n",
    "train_set = np.float32(train)\n",
    "train_labels_set = np.float32(trainLables)\n",
    "valid_set = np.float32(valid)\n",
    "valid_labels_set = np.float32(validLabels)"
   ]
  },
  {
   "cell_type": "code",
   "execution_count": 8,
   "metadata": {},
   "outputs": [
    {
     "name": "stderr",
     "output_type": "stream",
     "text": [
      "Using CNTK backend\n",
      "/home/akshay/.local/lib/python3.5/site-packages/keras/backend/cntk_backend.py:18: UserWarning: CNTK backend warning: GPU is not detected. CNTK's CPU version is not fully optimized,please run with GPU to get better performance.\n",
      "  'CNTK backend warning: GPU is not detected. '\n"
     ]
    }
   ],
   "source": [
    "import keras"
   ]
  },
  {
   "cell_type": "code",
   "execution_count": 118,
   "metadata": {},
   "outputs": [
    {
     "name": "stderr",
     "output_type": "stream",
     "text": [
      "/home/akshay/.local/lib/python3.5/site-packages/keras/backend/cntk_backend.py:2337: UserWarning: CNTK backend warning: CNTK version not detected. Will using CNTK 2.0 GA as default.\n",
      "  'CNTK backend warning: CNTK version not detected. '\n"
     ]
    }
   ],
   "source": [
    "from keras.layers import Input, Dense\n",
    "from keras.models import Model\n",
    "from keras import optimizers\n",
    "\n",
    "features = 41\n",
    "\n",
    "input_layer = Input(shape=(41,))\n",
    "\n",
    "encoded_layer_1 = Dense(features, activation='elu')(input_layer)\n",
    "encoded_layer_2 = Dense(30, activation='elu')(encoded_layer_1)\n",
    "encoded_layer_3 = Dense(20, activation='elu')(encoded_layer_2)\n",
    "encoded_layer_4 = Dense(10, activation='elu')(encoded_layer_3)\n",
    "encoded_layer_5 = Dense(5, activation='softmax')(encoded_layer_4)\n",
    "\n",
    "\n",
    "decoded = Dense(5, activation='elu')(encoded_layer_5)\n",
    "decoded = Dense(10, activation='elu')(encoded_layer_5)\n",
    "\n",
    "decoded = Dense(20, activation='elu')(decoded)\n",
    "\n",
    "decoded = Dense(30, activation='elu')(decoded)\n",
    "decoded = Dense(41, activation='elu')(decoded)\n",
    "\n",
    "\n",
    "# this model maps an input to its reconstruction\n",
    "autoencoder = Model(input_layer, encoded_layer_5)\n",
    "encoded = Model(input_layer, encoded_layer_5)\n",
    "s = keras.callbacks.EarlyStopping(monitor='val_loss', min_delta=0, patience=0, verbose=1, mode='auto')"
   ]
  },
  {
   "cell_type": "code",
   "execution_count": 120,
   "metadata": {},
   "outputs": [],
   "source": [
    "opt = keras.optimizers.Adam(lr=0.001,  decay=0.1)"
   ]
  },
  {
   "cell_type": "code",
   "execution_count": 130,
   "metadata": {},
   "outputs": [
    {
     "name": "stderr",
     "output_type": "stream",
     "text": [
      "/home/akshay/.local/lib/python3.5/site-packages/keras/backend/cntk_backend.py:2337: UserWarning: CNTK backend warning: CNTK version not detected. Will using CNTK 2.0 GA as default.\n",
      "  'CNTK backend warning: CNTK version not detected. '\n"
     ]
    }
   ],
   "source": [
    "autoencoder.compile(optimizer=opt, loss='categorical_crossentropy', metrics=['accuracy'])"
   ]
  },
  {
   "cell_type": "code",
   "execution_count": 131,
   "metadata": {},
   "outputs": [
    {
     "name": "stdout",
     "output_type": "stream",
     "text": [
      "Train on 113374 samples, validate on 12598 samples\n",
      "Epoch 1/10\n",
      "113374/113374 [==============================] - 7s 61us/step - loss: 0.2628 - acc: 0.9353 - val_loss: 0.2585 - val_acc: 0.9362\n",
      "Epoch 2/10\n",
      "113374/113374 [==============================] - 16s 140us/step - loss: 0.2563 - acc: 0.9374 - val_loss: 0.2537 - val_acc: 0.9371\n",
      "Epoch 3/10\n",
      "113374/113374 [==============================] - 21s 185us/step - loss: 0.2523 - acc: 0.9382 - val_loss: 0.2502 - val_acc: 0.9379\n",
      "Epoch 4/10\n",
      "113374/113374 [==============================] - 12s 106us/step - loss: 0.2492 - acc: 0.9385 - val_loss: 0.2473 - val_acc: 0.9383\n",
      "Epoch 5/10\n",
      "113374/113374 [==============================] - 12s 103us/step - loss: 0.2466 - acc: 0.9393 - val_loss: 0.2448 - val_acc: 0.9388\n",
      "Epoch 6/10\n",
      "113374/113374 [==============================] - 14s 125us/step - loss: 0.2443 - acc: 0.9397 - val_loss: 0.2426 - val_acc: 0.9390\n",
      "Epoch 7/10\n",
      "113374/113374 [==============================] - 17s 150us/step - loss: 0.2423 - acc: 0.9400 - val_loss: 0.2407 - val_acc: 0.9390\n",
      "Epoch 8/10\n",
      "113374/113374 [==============================] - 14s 124us/step - loss: 0.2404 - acc: 0.9401 - val_loss: 0.2389 - val_acc: 0.9391\n",
      "Epoch 9/10\n",
      "113374/113374 [==============================] - 16s 145us/step - loss: 0.2387 - acc: 0.9403 - val_loss: 0.2372 - val_acc: 0.9393\n",
      "Epoch 10/10\n",
      "113374/113374 [==============================] - 17s 154us/step - loss: 0.2372 - acc: 0.9405 - val_loss: 0.2357 - val_acc: 0.9395\n"
     ]
    },
    {
     "data": {
      "text/plain": [
       "<keras.callbacks.History at 0x7f81e8f1bc88>"
      ]
     },
     "execution_count": 131,
     "metadata": {},
     "output_type": "execute_result"
    }
   ],
   "source": [
    "\n",
    "autoencoder.fit(train_set,train_labels_set,\n",
    "                epochs=10,\n",
    "                batch_size=256,\n",
    "                shuffle=True,\n",
    "                validation_split=0.1, callbacks=[s])"
   ]
  },
  {
   "cell_type": "code",
   "execution_count": 133,
   "metadata": {
    "scrolled": true
   },
   "outputs": [
    {
     "name": "stdout",
     "output_type": "stream",
     "text": [
      "22542/22542 [==============================] - 3s 132us/step\n"
     ]
    }
   ],
   "source": [
    "_,a = autoencoder.evaluate(test_set, test_labels_set)"
   ]
  },
  {
   "cell_type": "code",
   "execution_count": 135,
   "metadata": {},
   "outputs": [
    {
     "name": "stderr",
     "output_type": "stream",
     "text": [
      "/home/akshay/.local/lib/python3.5/site-packages/cntk/core.py:361: UserWarning: your data is of type \"float64\", but your input variable (uid \"Input10042\") expects \"<class 'numpy.float32'>\". Please convert your data beforehand to speed up training.\n",
      "  (sample.dtype, var.uid, str(var.dtype)))\n"
     ]
    }
   ],
   "source": [
    "ped = encoded.predict(test)\n"
   ]
  },
  {
   "cell_type": "code",
   "execution_count": 137,
   "metadata": {
    "scrolled": true
   },
   "outputs": [
    {
     "name": "stdout",
     "output_type": "stream",
     "text": [
      "             precision    recall  f1-score   support\n",
      "\n",
      "     Normal       0.66      0.95      0.77     10003\n",
      "        DoS       0.87      0.74      0.80      7164\n",
      "      Probe       0.88      0.74      0.80      2421\n",
      "        U2r       0.00      0.00      0.00      2887\n",
      "        R2L       0.00      0.00      0.00        67\n",
      "\n",
      "avg / total       0.66      0.73      0.68     22542\n",
      "\n"
     ]
    },
    {
     "name": "stderr",
     "output_type": "stream",
     "text": [
      "/home/akshay/.local/lib/python3.5/site-packages/sklearn/metrics/classification.py:1135: UndefinedMetricWarning: Precision and F-score are ill-defined and being set to 0.0 in labels with no predicted samples.\n",
      "  'precision', 'predicted', average, warn_for)\n"
     ]
    }
   ],
   "source": [
    "from sklearn.metrics import classification_report, confusion_matrix\n",
    "print(classification_report(y, predict_op,target_names=['Normal', 'DoS','Probe','U2r', 'R2L']))"
   ]
  },
  {
   "cell_type": "code",
   "execution_count": 141,
   "metadata": {},
   "outputs": [
    {
     "name": "stdout",
     "output_type": "stream",
     "text": [
      "[[9463  357  183    0    0]\n",
      " [1865 5267   32    0    0]\n",
      " [ 194  445 1782    0    0]\n",
      " [2848    6   33    0    0]\n",
      " [  67    0    0    0    0]]\n"
     ]
    }
   ],
   "source": [
    "print(confusion_matrix(y, predict_op))"
   ]
  },
  {
   "cell_type": "code",
   "execution_count": null,
   "metadata": {},
   "outputs": [],
   "source": []
  }
 ],
 "metadata": {
  "kernelspec": {
   "display_name": "Python 3",
   "language": "python",
   "name": "python3"
  },
  "language_info": {
   "codemirror_mode": {
    "name": "ipython",
    "version": 3
   },
   "file_extension": ".py",
   "mimetype": "text/x-python",
   "name": "python",
   "nbconvert_exporter": "python",
   "pygments_lexer": "ipython3",
   "version": "3.5.2"
  }
 },
 "nbformat": 4,
 "nbformat_minor": 2
}
